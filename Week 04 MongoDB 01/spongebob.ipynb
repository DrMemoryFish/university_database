{
 "cells": [
  {
   "cell_type": "code",
   "execution_count": 1,
   "metadata": {},
   "outputs": [],
   "source": [
    "# Create four variables\n",
    "\n",
    "starter = \"\"\n",
    "main = \"\"\n",
    "dessert = \"\"\n",
    "drink = \"\""
   ]
  },
  {
   "cell_type": "code",
   "execution_count": 2,
   "metadata": {},
   "outputs": [],
   "source": [
    "# Ask the user to input their favourite starter, main course, dessert and drink\n",
    "\n",
    "starter = input(\"What is your favourite starter? \")\n",
    "main = input(\"What is your favourite main course? \")\n",
    "dessert = input(\"What is your favourite dessert? \")\n",
    "drink = input(\"What is your favourite drink? \")"
   ]
  },
  {
   "cell_type": "code",
   "execution_count": 3,
   "metadata": {},
   "outputs": [],
   "source": [
    "# Concatenate the input into an output message\n",
    "\n",
    "output_message = \"Your favourite meal is \" + starter + \" + \" + main + \" + \" + dessert + \" + with a glass of \" + drink"
   ]
  },
  {
   "cell_type": "code",
   "execution_count": 4,
   "metadata": {},
   "outputs": [
    {
     "name": "stdout",
     "output_type": "stream",
     "text": [
      "Your favourite meal is soup + spaghetti  + cheesecake  + with a glass of soda \n"
     ]
    }
   ],
   "source": [
    "# Print the output message\n",
    "\n",
    "print(output_message)"
   ]
  },
  {
   "cell_type": "code",
   "execution_count": null,
   "metadata": {},
   "outputs": [],
   "source": []
  }
 ],
 "metadata": {
  "kernelspec": {
   "display_name": "Python 3.11.0 64-bit",
   "language": "python",
   "name": "python3"
  },
  "language_info": {
   "codemirror_mode": {
    "name": "ipython",
    "version": 3
   },
   "file_extension": ".py",
   "mimetype": "text/x-python",
   "name": "python",
   "nbconvert_exporter": "python",
   "pygments_lexer": "ipython3",
   "version": "3.11.0"
  },
  "orig_nbformat": 4,
  "vscode": {
   "interpreter": {
    "hash": "63472fbc03174018a603bb46991d0e9c7ac981a5788eb37b1d5005483aeacd91"
   }
  }
 },
 "nbformat": 4,
 "nbformat_minor": 2
}

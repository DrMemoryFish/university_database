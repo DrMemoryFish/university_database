{
 "cells": [
  {
   "cell_type": "code",
   "execution_count": 2,
   "metadata": {},
   "outputs": [],
   "source": [
    "# Program code\n",
    "\n",
    "# Ask the user to input two numbers\n",
    "num1 = input('Please enter the first number: ')\n",
    "num2 = input('Please enter the second number: ')"
   ]
  },
  {
   "cell_type": "code",
   "execution_count": 3,
   "metadata": {},
   "outputs": [],
   "source": [
    "# convert the numbers to integers\n",
    "num1 = int(num1)\n",
    "num2 = int(num2)"
   ]
  },
  {
   "cell_type": "code",
   "execution_count": 4,
   "metadata": {},
   "outputs": [],
   "source": [
    "# multiply the numbers together\n",
    "result = num1 * num2"
   ]
  },
  {
   "cell_type": "code",
   "execution_count": 5,
   "metadata": {},
   "outputs": [
    {
     "name": "stdout",
     "output_type": "stream",
     "text": [
      "The result as an integer is: 200428\n",
      "The result as a float is: 200428.0\n"
     ]
    }
   ],
   "source": [
    "# print the result as both an integer and a float\n",
    "print(\"The result as an integer is:\", int(result))\n",
    "print(\"The result as a float is:\", float(result))"
   ]
  }
 ],
 "metadata": {
  "kernelspec": {
   "display_name": "Python 3.10.0 64-bit",
   "language": "python",
   "name": "python3"
  },
  "language_info": {
   "codemirror_mode": {
    "name": "ipython",
    "version": 3
   },
   "file_extension": ".py",
   "mimetype": "text/x-python",
   "name": "python",
   "nbconvert_exporter": "python",
   "pygments_lexer": "ipython3",
   "version": "3.10.0"
  },
  "orig_nbformat": 4,
  "vscode": {
   "interpreter": {
    "hash": "fcdac387b723dab6cabf3be3f58bcaa9a14417ae421727ee28a12c9f5deacad3"
   }
  }
 },
 "nbformat": 4,
 "nbformat_minor": 2
}

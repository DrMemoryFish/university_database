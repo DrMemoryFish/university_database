{
 "cells": [
  {
   "cell_type": "code",
   "execution_count": 1,
   "metadata": {},
   "outputs": [],
   "source": [
    "# Create 4 variables for the starter, main, dessert and drink\n",
    "starter = input('What is your favourite starter? ')\n",
    "main = input('What is your favourite main? ')\n",
    "dessert = input('What is your favourite dessert? ')\n",
    "drink = input('What is your favourite drink? ')"
   ]
  },
  {
   "cell_type": "code",
   "execution_count": 2,
   "metadata": {},
   "outputs": [
    {
     "name": "stdout",
     "output_type": "stream",
     "text": [
      "Your favourite meal is soup, shawarma, cheesecake with a glass of rose milk .\n"
     ]
    }
   ],
   "source": [
    "# Concatenate the strings to create the output message\n",
    "output =  \"Your favourite meal is \" +starter + \", \"+ main + \", \" + dessert + \" with a glass of \" + drink + \".\"\n",
    "print(output)"
   ]
  },
  {
   "cell_type": "code",
   "execution_count": 3,
   "metadata": {},
   "outputs": [],
   "source": [
    "# Ask for the total price of a bill\n",
    "price = float(input('What is the total bill? '))"
   ]
  },
  {
   "cell_type": "code",
   "execution_count": 4,
   "metadata": {},
   "outputs": [],
   "source": [
    "# Ask how many diners there are\n",
    "diners = int(input('How many diners? '))"
   ]
  },
  {
   "cell_type": "code",
   "execution_count": 5,
   "metadata": {},
   "outputs": [],
   "source": [
    "# Divide the total bill by the number of diners\n",
    "cost_per_person = price/diners"
   ]
  },
  {
   "cell_type": "code",
   "execution_count": 6,
   "metadata": {},
   "outputs": [
    {
     "name": "stdout",
     "output_type": "stream",
     "text": [
      "Each person pays $179128.2\n"
     ]
    }
   ],
   "source": [
    "# Show how much each person should pay\n",
    "print(\"Each person pays $\" + str(cost_per_person))"
   ]
  }
 ],
 "metadata": {
  "kernelspec": {
   "display_name": "Python 3.11.0 64-bit",
   "language": "python",
   "name": "python3"
  },
  "language_info": {
   "codemirror_mode": {
    "name": "ipython",
    "version": 3
   },
   "file_extension": ".py",
   "mimetype": "text/x-python",
   "name": "python",
   "nbconvert_exporter": "python",
   "pygments_lexer": "ipython3",
   "version": "3.11.0"
  },
  "orig_nbformat": 4,
  "vscode": {
   "interpreter": {
    "hash": "63472fbc03174018a603bb46991d0e9c7ac981a5788eb37b1d5005483aeacd91"
   }
  }
 },
 "nbformat": 4,
 "nbformat_minor": 2
}

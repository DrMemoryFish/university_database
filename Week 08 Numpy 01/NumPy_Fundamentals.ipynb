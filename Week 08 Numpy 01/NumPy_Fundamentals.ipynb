{
 "cells": [
  {
   "cell_type": "code",
   "execution_count": 2,
   "metadata": {},
   "outputs": [],
   "source": [
    "#Import NumPy as np.\n",
    "import numpy as np"
   ]
  },
  {
   "cell_type": "code",
   "execution_count": null,
   "metadata": {},
   "outputs": [],
   "source": [
    "#Create a 1D array of numbers from 0 to 9.\n",
    "array  = np.array([0,1,2,3,4,5,6,7,8,9])\n",
    "print(array)"
   ]
  },
  {
   "cell_type": "code",
   "execution_count": null,
   "metadata": {},
   "outputs": [],
   "source": [
    "#Convert 1D array to 2D array with two rows.\n",
    "array2 = np.reshape(array, (2, -1))\n",
    "print(array2)"
   ]
  },
  {
   "cell_type": "code",
   "execution_count": null,
   "metadata": {},
   "outputs": [],
   "source": [
    "#Write a NumPy program to create an array of the intergers from 30 to 70.\n",
    "intergers_array = np.arange(30, 71)\n",
    "print(intergers_array)"
   ]
  },
  {
   "cell_type": "code",
   "execution_count": null,
   "metadata": {},
   "outputs": [],
   "source": [
    "#Write a NumPy program to append the values to the end of an array."
   ]
  },
  {
   "cell_type": "code",
   "execution_count": null,
   "metadata": {},
   "outputs": [],
   "source": [
    "# Create an existing array\n",
    "append_array = np.array([10, 20, 30, 40])\n",
    "print(append_array)"
   ]
  },
  {
   "cell_type": "code",
   "execution_count": null,
   "metadata": {},
   "outputs": [],
   "source": [
    "# Create an array of integers from 30 to 70\n",
    "new_values = np.arange(50, 61)\n",
    "print(new_values)"
   ]
  },
  {
   "cell_type": "code",
   "execution_count": null,
   "metadata": {},
   "outputs": [],
   "source": [
    "# Append new values to the existing array\n",
    "resulting_array = np.append(append_array, new_values)\n",
    "print(resulting_array)"
   ]
  },
  {
   "cell_type": "code",
   "execution_count": null,
   "metadata": {},
   "outputs": [],
   "source": [
    "#Core Learning 1 - NumPy Fundamentals extension"
   ]
  },
  {
   "cell_type": "code",
   "execution_count": null,
   "metadata": {},
   "outputs": [],
   "source": [
    "matrix= np.arange(1,10).reshape((3, 3))\n",
    "#Print the matrix\n",
    "print(matrix)\n",
    "#blank space\n",
    "print(\"\")\n",
    "#Give the size of the matrix\n",
    "print(matrix.shape)"
   ]
  },
  {
   "cell_type": "code",
   "execution_count": null,
   "metadata": {},
   "outputs": [],
   "source": [
    "#even integers from 30 to 70.\n",
    "even_array = np.arange(30, 71, 2)\n",
    "print(even_array)"
   ]
  },
  {
   "cell_type": "code",
   "execution_count": null,
   "metadata": {},
   "outputs": [],
   "source": [
    "#List to an array\n",
    "list = [1, 2, 3, 4]\n",
    "print(list)\n",
    "list_to_array = np.array(list)\n",
    "print(list_to_array) #Prints list to array"
   ]
  },
  {
   "cell_type": "code",
   "execution_count": null,
   "metadata": {},
   "outputs": [],
   "source": [
    "# Tuple to an array\n",
    "tuple = (1, 2, 3, 4)\n",
    "print(tuple) # prints the tuple"
   ]
  },
  {
   "cell_type": "code",
   "execution_count": null,
   "metadata": {},
   "outputs": [],
   "source": [
    "#convert tuple to numpy array\n",
    "tuple_to_array = np.array(tuple)\n",
    "print(tuple_to_array) # prints the numpy array"
   ]
  },
  {
   "cell_type": "code",
   "execution_count": null,
   "metadata": {},
   "outputs": [],
   "source": [
    "# Define the data type for the structured array using a list of tuples\n",
    "data_type = [('name','S15'), ('class', int), ('height', float)]\n",
    "\n",
    "# Define a list of student details\n",
    "student_details = [('James', 5, 48.5), ('Nail', 6, 52.5), ('Paul', 5, 42.10), ('Pit', 5, 40.11)]\n",
    "\n",
    "#Printing the data_type and student_details\n",
    "print(data_type)\n",
    "print(student_details)"
   ]
  },
  {
   "cell_type": "code",
   "execution_count": null,
   "metadata": {},
   "outputs": [],
   "source": [
    "# Create a structured array using the student details and the defined data type\n",
    "students = np.array(student_details, dtype=data_type)\n",
    "print(students) #Prints the students information"
   ]
  },
  {
   "cell_type": "code",
   "execution_count": null,
   "metadata": {},
   "outputs": [],
   "source": [
    "# Sort the structured array based on the 'height' field\n",
    "sorted_students = np.sort(students, order='height')\n",
    "\n",
    "# Print the sorted array\n",
    "print(sorted_students) #Prints the sorted array"
   ]
  },
  {
   "cell_type": "code",
   "execution_count": null,
   "metadata": {},
   "outputs": [],
   "source": [
    "#Core Learning 2 - Mathematics"
   ]
  },
  {
   "cell_type": "code",
   "execution_count": null,
   "metadata": {},
   "outputs": [],
   "source": [
    "# Initialize two arrays\n",
    "a = np.arange(30, 71)\n",
    "b = np.arange(70, 111)"
   ]
  },
  {
   "cell_type": "code",
   "execution_count": null,
   "metadata": {},
   "outputs": [],
   "source": [
    "#add arguments elementwise.\n",
    "addition = np.add(a, b)\n",
    "print(addition)"
   ]
  },
  {
   "cell_type": "code",
   "execution_count": null,
   "metadata": {},
   "outputs": [],
   "source": [
    "#subtract arguments elementwise.\n",
    "subtract = np.subtract(a, b)\n",
    "print(subtract)"
   ]
  },
  {
   "cell_type": "code",
   "execution_count": null,
   "metadata": {},
   "outputs": [],
   "source": [
    "#multiply arguments elementwise.\n",
    "multiply = np.multiply(a, b)\n",
    "print(multiply)"
   ]
  },
  {
   "cell_type": "code",
   "execution_count": null,
   "metadata": {},
   "outputs": [],
   "source": [
    "#divide arguments elementwise.\n",
    "divide = np.divide(a, b)\n",
    "print(divide)"
   ]
  },
  {
   "cell_type": "code",
   "execution_count": 5,
   "metadata": {},
   "outputs": [
    {
     "name": "stdout",
     "output_type": "stream",
     "text": [
      "[1.5 2.5 3.5 4.5 5.5 6.5 7.5 8.5 9.5]\n"
     ]
    }
   ],
   "source": [
    "# preparing integers to round to the nearest integer\n",
    "round = np.arange(1.5, 10.5)\n",
    "print(round)"
   ]
  },
  {
   "cell_type": "code",
   "execution_count": 6,
   "metadata": {},
   "outputs": [
    {
     "name": "stdout",
     "output_type": "stream",
     "text": [
      "[ 2.  2.  4.  4.  6.  6.  8.  8. 10.]\n"
     ]
    }
   ],
   "source": [
    "# round elements of an array to the nearest integer\n",
    "round_new = np.round(round)\n",
    "print(round_new)"
   ]
  },
  {
   "cell_type": "code",
   "execution_count": 4,
   "metadata": {},
   "outputs": [],
   "source": [
    "# Create two arrays\n",
    "array_1 = np.array([1, 2, 3, 4, 5])\n",
    "array_2 = np.array([5, 4, 3, 2, 1])"
   ]
  },
  {
   "cell_type": "code",
   "execution_count": null,
   "metadata": {},
   "outputs": [],
   "source": [
    "# Perform true division of the element-wise array inputs\n",
    "result = np.true_divide(array_1, array_2)\n",
    "print(result)"
   ]
  },
  {
   "cell_type": "code",
   "execution_count": null,
   "metadata": {},
   "outputs": [],
   "source": [
    "#Core Learning 2 - Mathematics extension"
   ]
  },
  {
   "cell_type": "code",
   "execution_count": null,
   "metadata": {},
   "outputs": [],
   "source": [
    "# Initialize first array\n",
    "first = np.array([[1, 2, 3], [4, 5, 6], [7, 8, 9], [10, 11, 12], [13, 14, 15]])\n",
    "print(first)\n"
   ]
  },
  {
   "cell_type": "code",
   "execution_count": null,
   "metadata": {},
   "outputs": [],
   "source": [
    "# Initialize first array\n",
    "second = np.array([[11, 12], [13, 14], [15, 16]])\n",
    "print(second)"
   ]
  },
  {
   "cell_type": "code",
   "execution_count": null,
   "metadata": {},
   "outputs": [],
   "source": [
    "# Perform matrix multiplication between first and second\n",
    "multiply = first.dot(second)\n",
    "# Print the result\n",
    "print(multiply)"
   ]
  },
  {
   "cell_type": "code",
   "execution_count": null,
   "metadata": {},
   "outputs": [],
   "source": [
    "# Generate a random array of size 1000 with elements between 1 and 10\n",
    "random_array = np.random.randint(1, 10, 1000)\n",
    "print(random_array)"
   ]
  },
  {
   "cell_type": "code",
   "execution_count": null,
   "metadata": {},
   "outputs": [],
   "source": [
    "# Calculate the average of elements in the random array\n",
    "average_random_array = np.average(random_array)\n",
    "print(average_random_array)"
   ]
  },
  {
   "cell_type": "code",
   "execution_count": null,
   "metadata": {},
   "outputs": [],
   "source": [
    "# Calculate the variance of elements in the random array\n",
    "variance_random_array = np.var(random_array)\n",
    "print(variance_random_array)"
   ]
  },
  {
   "cell_type": "code",
   "execution_count": null,
   "metadata": {},
   "outputs": [],
   "source": [
    "# Calculate the standard deviation of elements in the random array\n",
    "std_random_array = np.std(random_array)\n",
    "print(std_random_array)"
   ]
  },
  {
   "cell_type": "code",
   "execution_count": null,
   "metadata": {},
   "outputs": [],
   "source": [
    "# Create an array of decimal numbers between 0 and 100 with 10 elements\n",
    "random_intergers = np.random.rand(10) * 100\n",
    "\n",
    "# Round the decimal numbers to 4 decimal places\n",
    "random_array_2dp = np.round(random_intergers, 4)\n",
    "print(random_array_2dp)"
   ]
  },
  {
   "cell_type": "code",
   "execution_count": null,
   "metadata": {},
   "outputs": [],
   "source": [
    "# Round the decimal numbers to the nearest integer using the 'round' function\n",
    "round_int = np.round(random_array_2dp)\n",
    "print(round_int)"
   ]
  },
  {
   "cell_type": "code",
   "execution_count": null,
   "metadata": {},
   "outputs": [],
   "source": [
    "# Round the decimal numbers down to the nearest integer using the 'floor' function\n",
    "floor_int = np.floor(random_array_2dp)\n",
    "print(floor_int)"
   ]
  },
  {
   "cell_type": "code",
   "execution_count": null,
   "metadata": {},
   "outputs": [],
   "source": [
    "# Round the decimal numbers up to the nearest integer using the 'ceil' function\n",
    "ceiling_int = np.ceil(random_array_2dp)\n",
    "print(ceiling_int)"
   ]
  },
  {
   "cell_type": "code",
   "execution_count": null,
   "metadata": {},
   "outputs": [],
   "source": [
    "# Truncate the decimal numbers using the 'trunc' function\n",
    "trunc_int = np.trunc(random_array_2dp)\n",
    "print(trunc_int)"
   ]
  },
  {
   "cell_type": "code",
   "execution_count": null,
   "metadata": {},
   "outputs": [],
   "source": [
    "# Round the decimal numbers to 2 decimal places\n",
    "round_dec_int = np.round(random_array_2dp, 2)\n",
    "print(round_dec_int)"
   ]
  },
  {
   "cell_type": "code",
   "execution_count": 7,
   "metadata": {},
   "outputs": [],
   "source": [
    "# Create a 1D array\n",
    "arr = np.array([3, 4, 5, 2, 1, 6, 8, 9, 7])"
   ]
  },
  {
   "cell_type": "code",
   "execution_count": 8,
   "metadata": {},
   "outputs": [],
   "source": [
    "# Find the maximum value\n",
    "max_val = np.max(arr)\n",
    "# Find the minimum value\n",
    "min_val = np.min(arr)"
   ]
  },
  {
   "cell_type": "code",
   "execution_count": 9,
   "metadata": {},
   "outputs": [
    {
     "name": "stdout",
     "output_type": "stream",
     "text": [
      "minumum value: 1, maxumum value: 9\n"
     ]
    }
   ],
   "source": [
    "print(f\"minumum value: {min_val}, maxumum value: {max_val}\")"
   ]
  },
  {
   "cell_type": "code",
   "execution_count": 13,
   "metadata": {},
   "outputs": [],
   "source": [
    "# Create two 1D arrays\n",
    "arr1 = np.array([1,2,3,4,5,6,7])\n",
    "arr2 = np.array([1,2,3,4,5,6,7])"
   ]
  },
  {
   "cell_type": "code",
   "execution_count": 14,
   "metadata": {},
   "outputs": [
    {
     "name": "stdout",
     "output_type": "stream",
     "text": [
      "[1 2 3 4 5 6 7 1 2 3 4 5 6 7]\n"
     ]
    }
   ],
   "source": [
    "# Concatenate the two arrays along axis 0\n",
    "join = np.concatenate((arr1, arr2), axis=0)\n",
    "print(join)"
   ]
  }
 ],
 "metadata": {
  "kernelspec": {
   "display_name": "Python 3",
   "language": "python",
   "name": "python3"
  },
  "language_info": {
   "codemirror_mode": {
    "name": "ipython",
    "version": 3
   },
   "file_extension": ".py",
   "mimetype": "text/x-python",
   "name": "python",
   "nbconvert_exporter": "python",
   "pygments_lexer": "ipython3",
   "version": "3.11.1"
  },
  "orig_nbformat": 4,
  "vscode": {
   "interpreter": {
    "hash": "5238573367df39f7286bb46f9ff5f08f63a01a80960060ce41e3c79b190280fa"
   }
  }
 },
 "nbformat": 4,
 "nbformat_minor": 2
}

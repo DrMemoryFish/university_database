{
 "cells": [
  {
   "cell_type": "code",
   "execution_count": 1,
   "metadata": {},
   "outputs": [],
   "source": [
    "import pandas as pd\n",
    "import numpy as np\n",
    "import matplotlib as mpl\n",
    "import plotly as plt\n",
    "from matplotlib.lines import *\n",
    "from matplotlib.patches import *\n",
    "from matplotlib.text import *\n",
    "from matplotlib.image import *\n",
    "import seaborn as sns\n",
    "import squarify\n",
    "from matplotlib import pyplot as plt\n",
    "import plotly.express as px\n",
    "import plotly.graph_objs as go \n",
    "plt.style.use('ggplot')\n",
    "pd.set_option('display.max_columns', 200)"
   ]
  },
  {
   "cell_type": "code",
   "execution_count": null,
   "metadata": {},
   "outputs": [],
   "source": [
    "#Dirty Dataset - Part 1"
   ]
  },
  {
   "cell_type": "code",
   "execution_count": 3,
   "metadata": {},
   "outputs": [],
   "source": [
    "df = pd.read_csv(\"Data_Analyst_Sample.csv\")"
   ]
  },
  {
   "cell_type": "code",
   "execution_count": null,
   "metadata": {},
   "outputs": [],
   "source": [
    "# Display the first 5 rows of the dataframe\n",
    "print(df.head())"
   ]
  },
  {
   "cell_type": "code",
   "execution_count": null,
   "metadata": {},
   "outputs": [],
   "source": [
    "# Display the last 5 rows of the dataframe\n",
    "print(df.tail())"
   ]
  },
  {
   "cell_type": "code",
   "execution_count": null,
   "metadata": {},
   "outputs": [],
   "source": [
    "# Display some basic statistical information about the dataframe\n",
    "print(df.describe())"
   ]
  },
  {
   "cell_type": "code",
   "execution_count": null,
   "metadata": {},
   "outputs": [],
   "source": [
    "df.shape"
   ]
  },
  {
   "cell_type": "code",
   "execution_count": null,
   "metadata": {},
   "outputs": [],
   "source": [
    "missing_values = df.isnull().sum()\n",
    "print(missing_values)"
   ]
  },
  {
   "cell_type": "code",
   "execution_count": null,
   "metadata": {},
   "outputs": [],
   "source": [
    "missing_values = df.isnull().sum()\n",
    "missing_values = missing_values[missing_values > 0]\n",
    "print(missing_values)"
   ]
  },
  {
   "cell_type": "code",
   "execution_count": 21,
   "metadata": {},
   "outputs": [],
   "source": [
    "df = df.dropna(subset=df.select_dtypes(include=['object']).columns, how='any')"
   ]
  },
  {
   "cell_type": "code",
   "execution_count": 24,
   "metadata": {},
   "outputs": [],
   "source": [
    "df.update(df[df.select_dtypes(include=['int', 'float']).columns].fillna(0))"
   ]
  },
  {
   "cell_type": "code",
   "execution_count": null,
   "metadata": {},
   "outputs": [],
   "source": [
    "for col in df.select_dtypes(include=['int', 'float']).columns:\n",
    "    df[col].fillna(0, inplace=True)"
   ]
  },
  {
   "cell_type": "code",
   "execution_count": null,
   "metadata": {},
   "outputs": [],
   "source": [
    "missing_values = df.isnull().sum()\n",
    "print(missing_values)"
   ]
  },
  {
   "cell_type": "code",
   "execution_count": null,
   "metadata": {},
   "outputs": [],
   "source": [
    "df.notnull().all()"
   ]
  },
  {
   "cell_type": "code",
   "execution_count": null,
   "metadata": {},
   "outputs": [],
   "source": [
    "#Dirty Dataset - part 2"
   ]
  },
  {
   "cell_type": "code",
   "execution_count": 8,
   "metadata": {},
   "outputs": [],
   "source": [
    "\n",
    "# read the errors.csv file into a dataframe\n",
    "errors_df = pd.read_csv(\"errors.csv\")"
   ]
  },
  {
   "cell_type": "code",
   "execution_count": 2,
   "metadata": {},
   "outputs": [],
   "source": [
    "# read the Data_Analyst_Sample.csv file into a dataframe\n",
    "data_df = pd.read_csv(\"Data_Analyst_Sample.csv\")"
   ]
  },
  {
   "cell_type": "code",
   "execution_count": null,
   "metadata": {},
   "outputs": [],
   "source": [
    "# count the number of errors in the dataset\n",
    "error_count = 0\n",
    "data_df[\"Campaign Name\"] = data_df[\"Campaign Name\"].astype(str)\n",
    "for i, row in errors_df.iterrows():\n",
    "    if data_df[\"Campaign Name\"].str.contains(row[\"Campaign error name\"]).any():\n",
    "        error_count += 1\n",
    "        # use the .replace() method to correct the errors\n",
    "        data_df[\"Campaign Name\"].replace(row[\"Campaign error name\"], row[\"Campaign correct\"], inplace=True)\n",
    "\n",
    "print(\"Number of errors found:\", error_count)"
   ]
  },
  {
   "cell_type": "code",
   "execution_count": null,
   "metadata": {},
   "outputs": [],
   "source": [
    "# verify the errors have been corrected\n",
    "print(\"Errors corrected:\", error_count)"
   ]
  },
  {
   "cell_type": "code",
   "execution_count": 118,
   "metadata": {},
   "outputs": [],
   "source": [
    "# export the corrected \"Campaign Name\" column to a .csv file\n",
    "data_df[[\"Campaign Name\"]].to_csv(\"corrected_campaign_names.csv\", index=False)"
   ]
  },
  {
   "cell_type": "code",
   "execution_count": 27,
   "metadata": {},
   "outputs": [],
   "source": [
    "#Core Learning 3 - Exploratory Data Analysis (EDA)"
   ]
  },
  {
   "cell_type": "code",
   "execution_count": 17,
   "metadata": {},
   "outputs": [],
   "source": [
    "# Reading the csv file and storing it in a variable named 'data'\n",
    "data = pd.read_csv('./Superstore_data_sample.csv')"
   ]
  },
  {
   "cell_type": "code",
   "execution_count": null,
   "metadata": {},
   "outputs": [],
   "source": [
    "# Exploration methods"
   ]
  },
  {
   "cell_type": "code",
   "execution_count": null,
   "metadata": {},
   "outputs": [],
   "source": [
    "# Using the head() method to display the first 5 rows of the data\n",
    "print(data.head())"
   ]
  },
  {
   "cell_type": "code",
   "execution_count": null,
   "metadata": {},
   "outputs": [],
   "source": [
    "# Using the describe() method to display the statistical summary of the numerical columns\n",
    "print(data.describe())"
   ]
  },
  {
   "cell_type": "code",
   "execution_count": null,
   "metadata": {},
   "outputs": [],
   "source": [
    "# Using the info() method to display the information of the dataframe\n",
    "print(data.info())"
   ]
  },
  {
   "cell_type": "code",
   "execution_count": null,
   "metadata": {},
   "outputs": [],
   "source": [
    "# check the shape of the data (rows, columns)\n",
    "print(data.shape)"
   ]
  },
  {
   "cell_type": "code",
   "execution_count": null,
   "metadata": {},
   "outputs": [],
   "source": [
    "# check the columns with missing values\n",
    "print(data.isnull().sum())"
   ]
  },
  {
   "cell_type": "code",
   "execution_count": null,
   "metadata": {},
   "outputs": [],
   "source": [
    "# Data Cleaning"
   ]
  },
  {
   "cell_type": "code",
   "execution_count": 21,
   "metadata": {},
   "outputs": [],
   "source": [
    "# Remove missing values from columns with object datatype\n",
    "df = data.dropna(subset=data.select_dtypes(include=['object']).columns, how='any')"
   ]
  },
  {
   "cell_type": "code",
   "execution_count": 22,
   "metadata": {},
   "outputs": [],
   "source": [
    "# Replace missing values with zero in columns with numeric datatype\n",
    "df = df.fillna(0)"
   ]
  },
  {
   "cell_type": "code",
   "execution_count": null,
   "metadata": {},
   "outputs": [],
   "source": [
    "# verify that there are no missing values\n",
    "print(df.isnull().sum().sum()) # prints the total number of missing values in the dataframe"
   ]
  },
  {
   "cell_type": "code",
   "execution_count": null,
   "metadata": {},
   "outputs": [],
   "source": [
    "#Core Learning 3 - Exploratory Data Analysis (EDA) - continued"
   ]
  },
  {
   "cell_type": "code",
   "execution_count": 79,
   "metadata": {},
   "outputs": [],
   "source": [
    "\"\"\"\n",
    "Question:\n",
    "Which category (furniture, office supplies and technology) has the most products? \n",
    "and of each subcategory, how many products are there?\n",
    "\"\"\""
   ]
  },
  {
   "cell_type": "code",
   "execution_count": null,
   "metadata": {},
   "outputs": [],
   "source": [
    "# group the 'Product Name' column by 'Category' and 'Sub-Category'\n",
    "grouped_csc = data.groupby(['Category', 'Sub-Category'])['Product Name'].count()\n",
    "\n",
    "# print the result\n",
    "print(grouped_csc)"
   ]
  },
  {
   "cell_type": "code",
   "execution_count": null,
   "metadata": {},
   "outputs": [],
   "source": [
    "# group the 'Product Name' column by 'Category' against and find the total number of products per category\n",
    "grouped_c = data.groupby(['Category'])['Product Name'].size()\n",
    "\n",
    "# print the result\n",
    "print(grouped_c)"
   ]
  },
  {
   "cell_type": "code",
   "execution_count": null,
   "metadata": {},
   "outputs": [],
   "source": [
    "# group the 'Product Name' column by 'Sub-Category' and find the total number of products per subcategory\n",
    "grouped_sc = data.groupby(['Sub-Category'])['Product Name'].count()\n",
    "\n",
    "# print the result\n",
    "print(grouped_sc)"
   ]
  },
  {
   "cell_type": "code",
   "execution_count": null,
   "metadata": {},
   "outputs": [],
   "source": [
    "# Create a stacked bar chart\n",
    "grouped_csc.unstack().plot(kind='bar', stacked=True, figsize=(15, 15), colormap='coolwarm')\n",
    "\n",
    "# Find the axis of the graph\n",
    "ax = plt.gca()\n",
    "\n",
    "#selects the position of the bar on the x axis\n",
    "for i in ax.containers:\n",
    "    #for each stack on the x axis\n",
    "    for j in i:\n",
    "        #get the x and y center position of each stack and plot the values in that position\n",
    "        ax.text(j.get_x() + j.get_width()/2., j.get_y() + j.get_height()/2., str(j.get_height()), \n",
    "                ha='center', va='center', rotation=0)\n",
    "\n",
    "# Rotate x-axis labels\n",
    "plt.xticks(rotation=0)\n",
    "\n",
    "# Add labels and title\n",
    "plt.xlabel('Category and Sub-Category')\n",
    "plt.ylabel('Count of Product Name')\n",
    "plt.title('Count of Product Name by Category and Sub-Category')\n",
    "\n",
    "# change location of the legend\n",
    "plt.legend(loc='upper left')\n",
    "\n",
    "# draw the stacked bar chart\n",
    "plt.show()"
   ]
  },
  {
   "cell_type": "code",
   "execution_count": null,
   "metadata": {},
   "outputs": [],
   "source": [
    "# create a pie chart of the product count by category\n",
    "grouped_c.plot(kind='pie', labels=grouped_c.index, \n",
    "                   autopct=lambda p : '{:.0f}'.format(p * sum(grouped_c) / 100),\n",
    "                   startangle=90, shadow=False, legend = False, fontsize=14, figsize=(15, 15))\n",
    "\n",
    "# change location of the legend\n",
    "plt.legend(loc='upper left')\n",
    "\n",
    "# add a title and labels\n",
    "plt.title(\"Product Count by Category\")\n",
    "plt.xlabel(\"Category\")\n",
    "plt.ylabel(\"Product Count\")\n",
    "\n",
    "# show the chart\n",
    "plt.show()\n"
   ]
  },
  {
   "cell_type": "code",
   "execution_count": null,
   "metadata": {},
   "outputs": [],
   "source": [
    "\"\"\"\n",
    "Answer:\n",
    "\n",
    "1. The category with the most products sold,\n",
    "a. \"Office Supplies\" with 6026 products,\n",
    "b. \"Technology\" with 1847 products, \n",
    "c. \"Furniture\" with 2121 products.\n",
    "\n",
    "2. Within the \"Office Supplies\" category, \n",
    "a. the sub-category with the most products sold is \"Binders\" with 1523 products,\n",
    "b. followed by \"Paper\" with 1367 products, \n",
    "c. and \"Storage\" with 845 products. \n",
    "\n",
    "3. Within the \"Technology\" category,\n",
    "a. the sub-category with the most products is \"Phones\" with 886 products,\n",
    "b. followed by \"Accessories\" with 774 products, \n",
    "c. and \"Machines\" with 114 products. \n",
    "\n",
    "4. Within the \"Furniture\" category, \n",
    "a. the sub-category with the most products is \"Furnishings\" with 956 products,\n",
    "b. followed by \"Chairs\" with 617 products,\n",
    "c. and \"Bookcases\" with 227 products.\n",
    "\"\"\" "
   ]
  },
  {
   "cell_type": "code",
   "execution_count": 11,
   "metadata": {},
   "outputs": [],
   "source": [
    "# group the 'Product Name' column by 'Category' and 'Sub-Category'\n",
    "grouped_two = data.groupby(['State', 'Category', 'Sub-Category'])['Sales'].sum()"
   ]
  },
  {
   "cell_type": "code",
   "execution_count": null,
   "metadata": {},
   "outputs": [],
   "source": [
    "# print the result\n",
    "print(grouped_two)"
   ]
  },
  {
   "cell_type": "code",
   "execution_count": null,
   "metadata": {},
   "outputs": [],
   "source": [
    "# Needed to check the data type of the dataset\n",
    "type(grouped_two)"
   ]
  },
  {
   "cell_type": "code",
   "execution_count": 14,
   "metadata": {},
   "outputs": [],
   "source": [
    "# found its series so converted the series to a Dataframe\n",
    "grouped_two_df = grouped_two.to_frame()"
   ]
  },
  {
   "cell_type": "code",
   "execution_count": 15,
   "metadata": {},
   "outputs": [],
   "source": [
    "# unstack the sub-category level\n",
    "grouped_two_df = grouped_two_df.unstack(level=-1)"
   ]
  },
  {
   "cell_type": "code",
   "execution_count": null,
   "metadata": {},
   "outputs": [],
   "source": [
    "# checking the data type of the new dataset\n",
    "type(grouped_two_df)"
   ]
  },
  {
   "cell_type": "code",
   "execution_count": null,
   "metadata": {},
   "outputs": [],
   "source": [
    "# print the new dataset\n",
    "print(grouped_two_df)"
   ]
  },
  {
   "cell_type": "code",
   "execution_count": null,
   "metadata": {},
   "outputs": [],
   "source": [
    "# create a pivot table to organize the data\n",
    "pivot_table = grouped_two_df.pivot_table(values='Sales', index='State')\n",
    "\n",
    "# plot the pivot table as a stacked bar chart\n",
    "pivot_table.plot(kind='bar', stacked=True, figsize=(30, 25))\n",
    "\n",
    "# add labels and a title\n",
    "plt.xlabel('State')\n",
    "plt.ylabel('Sales')\n",
    "plt.title('Sales by State and Category')\n",
    "plt.legend(title='Sub-Category')\n",
    "\n",
    "# show the chart\n",
    "plt.show()"
   ]
  },
  {
   "cell_type": "code",
   "execution_count": null,
   "metadata": {},
   "outputs": [],
   "source": [
    "# group the 'Product Name' column by 'Category' and 'Sub-Category'\n",
    "grouped_s = data.groupby(['State'])['Sales'].sum()\n",
    "print(grouped_s)"
   ]
  },
  {
   "cell_type": "code",
   "execution_count": null,
   "metadata": {},
   "outputs": [],
   "source": [
    "# Random"
   ]
  },
  {
   "cell_type": "code",
   "execution_count": null,
   "metadata": {},
   "outputs": [],
   "source": [
    "\"\"\"\n",
    "What is the difference in sales and profits between the different product categories \n",
    "(Technology, Furniture, Office Supplies) in the Superstore_data_sample.csv dataset \n",
    "and which category generates the most sales and profits?\n",
    "\"\"\""
   ]
  },
  {
   "cell_type": "code",
   "execution_count": null,
   "metadata": {},
   "outputs": [],
   "source": [
    "\"\"\"\n",
    "Question:\n",
    "What is the difference in sales and profits between the different product categories (Technology, Furniture, Office Supplies)\n",
    " in the Superstore_data_sample.csv dataset and which category generates the most sales and profits?\n",
    "\"\"\""
   ]
  },
  {
   "cell_type": "code",
   "execution_count": 2,
   "metadata": {},
   "outputs": [],
   "source": [
    "# import the data file\n",
    "df = pd.read_csv('./Superstore_data_sample.csv')"
   ]
  },
  {
   "cell_type": "code",
   "execution_count": null,
   "metadata": {},
   "outputs": [],
   "source": [
    "# check data types\n",
    "print(df.dtypes)"
   ]
  },
  {
   "cell_type": "code",
   "execution_count": null,
   "metadata": {},
   "outputs": [],
   "source": [
    "# check for missing values\n",
    "print(df.isnull().sum())"
   ]
  },
  {
   "cell_type": "code",
   "execution_count": 7,
   "metadata": {},
   "outputs": [],
   "source": [
    "# drop duplicate values\n",
    "df = df.drop_duplicates()"
   ]
  },
  {
   "cell_type": "code",
   "execution_count": null,
   "metadata": {},
   "outputs": [],
   "source": [
    "# check for missing values\n",
    "print(df.isnull().sum())"
   ]
  },
  {
   "cell_type": "code",
   "execution_count": null,
   "metadata": {},
   "outputs": [],
   "source": [
    "# drop unnecessary columns\n",
    "df = df.drop(['Row ID','Order ID','Customer ID','Product ID'], axis=1)"
   ]
  },
  {
   "cell_type": "code",
   "execution_count": 16,
   "metadata": {},
   "outputs": [],
   "source": [
    "# standardize date columns\n",
    "df['Order Date'] = pd.to_datetime(df['Order Date'], format='%d/%m/%Y')\n",
    "df['Ship Date'] = pd.to_datetime(df['Ship Date'], format='%d/%m/%Y')"
   ]
  },
  {
   "cell_type": "code",
   "execution_count": 11,
   "metadata": {},
   "outputs": [],
   "source": [
    "# remove outliers\n",
    "df = df[df['Profit'] > 0]"
   ]
  },
  {
   "cell_type": "code",
   "execution_count": null,
   "metadata": {},
   "outputs": [],
   "source": [
    "# group data by category\n",
    "category_group = df.groupby(by='Category').sum()"
   ]
  },
  {
   "cell_type": "code",
   "execution_count": 19,
   "metadata": {},
   "outputs": [],
   "source": [
    "# create a new column that contains the values of sales and profit as a tuple\n",
    "df['Sales_Profit'] = list(zip(df.Sales, df.Profit))"
   ]
  },
  {
   "cell_type": "code",
   "execution_count": 20,
   "metadata": {},
   "outputs": [],
   "source": [
    "# reshape the dataframe in long format\n",
    "df = pd.melt(df, id_vars=['Category'], value_vars=['Sales', 'Profit'], var_name='sales_profit', value_name='value')"
   ]
  },
  {
   "cell_type": "code",
   "execution_count": null,
   "metadata": {},
   "outputs": [],
   "source": [
    "print(df)"
   ]
  },
  {
   "cell_type": "code",
   "execution_count": null,
   "metadata": {},
   "outputs": [],
   "source": [
    "grouped_df = df.groupby([\"Category\", \"sales_profit\"]).sum().reset_index()\n",
    "print(grouped_df)"
   ]
  },
  {
   "cell_type": "code",
   "execution_count": 23,
   "metadata": {},
   "outputs": [
    {
     "data": {
      "image/png": "[encoded data removed]",
      "text/plain": [
       "<Figure size 1090.61x500 with 1 Axes>"
      ]
     },
     "metadata": {},
     "output_type": "display_data"
    }
   ],
   "source": [
    "# create a catplot\n",
    "g = sns.catplot(x='Category', y='value', hue='sales_profit', kind='bar', data=df, height=5, aspect=2)\n",
    "\n",
    "# add title and labels\n",
    "plt.title(\"Sales and Profits by Category\")\n",
    "plt.xlabel(\"Category\")\n",
    "plt.ylabel(\"Value\")\n",
    "\n",
    "# add y values on each bar and round it to the nearest .0\n",
    "for i in g.ax.containers:\n",
    "    for j in i:\n",
    "        g.ax.text(j.get_x() + j.get_width()/2., j.get_height()/2-10, round(j.get_height(),1), ha='center', va='bottom')\n",
    "\n",
    "# show the plot\n",
    "plt.show()"
   ]
  },
  {
   "cell_type": "code",
   "execution_count": null,
   "metadata": {},
   "outputs": [],
   "source": [
    "\"\"\"\n",
    "From the final table, it can be seen that: \n",
    "\n",
    "1. Furniture has the highest sales with 465116.9615 and the highest profit with 79387.3818. \n",
    "2. Office Supplies has the second highest sales with 618910.3490 and the second highest profit with 179106.0593. \n",
    "3. Technology has the lowest sales with 716680.3480 and the lowest profit with 184034.8663. \n",
    "\n",
    "To summarize, Furniture generates the most sales and profits among all categories, while Technology generates the least.\n",
    "\"\"\""
   ]
  }
 ],
 "metadata": {
  "kernelspec": {
   "display_name": "Python 3",
   "language": "python",
   "name": "python3"
  },
  "language_info": {
   "codemirror_mode": {
    "name": "ipython",
    "version": 3
   },
   "file_extension": ".py",
   "mimetype": "text/x-python",
   "name": "python",
   "nbconvert_exporter": "python",
   "pygments_lexer": "ipython3",
   "version": "3.11.1"
  },
  "orig_nbformat": 4,
  "vscode": {
   "interpreter": {
    "hash": "5238573367df39f7286bb46f9ff5f08f63a01a80960060ce41e3c79b190280fa"
   }
  }
 },
 "nbformat": 4,
 "nbformat_minor": 2
}

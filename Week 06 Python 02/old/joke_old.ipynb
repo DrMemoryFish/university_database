{
 "cells": [
  {
   "cell_type": "code",
   "execution_count": 1,
   "metadata": {},
   "outputs": [],
   "source": [
    "# get user input for their favorite number\n",
    "favorite_number = int(input(\"Pick a number between 1 and 100: \"))"
   ]
  },
  {
   "cell_type": "code",
   "execution_count": 2,
   "metadata": {},
   "outputs": [
    {
     "name": "stdout",
     "output_type": "stream",
     "text": [
      "Why was the computer cold? It left its Windows open.\n"
     ]
    }
   ],
   "source": [
    "# Use an if statement with logical operators to print out a joke based on the number the user picked\n",
    "if favorite_number >= 1 and favorite_number < 10:\n",
    "    print(\"Why was the math book sad? It had too many problems.\")\n",
    "elif favorite_number >= 10 and favorite_number < 50:\n",
    "    print(\"Why was the computer cold? It left its Windows open.\")\n",
    "elif favorite_number >= 50 and favorite_number <= 100:\n",
    "    print(\"Why couldn't the bicycle stand up by itself? It was two-tired.\")\n",
    "else:\n",
    "    print(\"Please enter a valid number between 1 and 100.\")"
   ]
  }
 ],
 "metadata": {
  "kernelspec": {
   "display_name": "Python 3",
   "language": "python",
   "name": "python3"
  },
  "language_info": {
   "codemirror_mode": {
    "name": "ipython",
    "version": 3
   },
   "file_extension": ".py",
   "mimetype": "text/x-python",
   "name": "python",
   "nbconvert_exporter": "python",
   "pygments_lexer": "ipython3",
   "version": "3.10.0"
  },
  "orig_nbformat": 4,
  "vscode": {
   "interpreter": {
    "hash": "fcdac387b723dab6cabf3be3f58bcaa9a14417ae421727ee28a12c9f5deacad3"
   }
  }
 },
 "nbformat": 4,
 "nbformat_minor": 2
}

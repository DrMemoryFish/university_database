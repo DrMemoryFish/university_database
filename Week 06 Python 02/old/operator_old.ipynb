{
 "cells": [
  {
   "cell_type": "code",
   "execution_count": 8,
   "metadata": {},
   "outputs": [],
   "source": [
    "# get user input for the first number\n",
    "first_num = int(input(\"Pick a First number:\"))\n",
    "print(first_num)    "
   ]
  },
  {
   "cell_type": "code",
   "execution_count": 5,
   "metadata": {},
   "outputs": [],
   "source": [
    "# get user input for the second number\n",
    "second_num = int(input(\"Pick a Second number:\"))\n",
    "print(second_num)"
   ]
  },
  {
   "cell_type": "code",
   "execution_count": 6,
   "metadata": {},
   "outputs": [],
   "source": [
    "# get user input for the operator\n",
    "operator = input(\"Pick an operator (+, -, *, /): \")\n",
    "print(operator)"
   ]
  },
  {
   "cell_type": "code",
   "execution_count": null,
   "metadata": {},
   "outputs": [],
   "source": [
    "# convert the user's input for the numbers to integers\n",
    "first_num = int(first_num)\n",
    "second_num = int(second_num)"
   ]
  },
  {
   "cell_type": "code",
   "execution_count": 12,
   "metadata": {},
   "outputs": [],
   "source": [
    "# use an if statement to carry out the math operation using the user's choice of numbers and operator\n",
    "if operator == \"+\":\n",
    "  result = first_num + second_num\n",
    "elif operator == \"-\":\n",
    "  result = first_num - second_num\n",
    "elif operator == \"*\":\n",
    "  result = first_num * second_num\n",
    "elif operator == \"/\":\n",
    "  result = first_num / second_num\n",
    "else:\n",
    "  print(\"Invalid operator. Please try again.\")"
   ]
  },
  {
   "cell_type": "code",
   "execution_count": null,
   "metadata": {},
   "outputs": [],
   "source": [
    "# print the result of the math operation\n",
    "print(result)"
   ]
  }
 ],
 "metadata": {
  "kernelspec": {
   "display_name": "Python 3.10.0 64-bit",
   "language": "python",
   "name": "python3"
  },
  "language_info": {
   "codemirror_mode": {
    "name": "ipython",
    "version": 3
   },
   "file_extension": ".py",
   "mimetype": "text/x-python",
   "name": "python",
   "nbconvert_exporter": "python",
   "pygments_lexer": "ipython3",
   "version": "3.10.0"
  },
  "orig_nbformat": 4,
  "vscode": {
   "interpreter": {
    "hash": "fcdac387b723dab6cabf3be3f58bcaa9a14417ae421727ee28a12c9f5deacad3"
   }
  }
 },
 "nbformat": 4,
 "nbformat_minor": 2
}
